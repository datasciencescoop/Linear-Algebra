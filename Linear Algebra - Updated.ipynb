{
 "cells": [
  {
   "cell_type": "markdown",
   "metadata": {},
   "source": [
    "<!DOCTYPE html>\n",
    "<html>\n",
    "<body>\n",
    "<div align=\"center\">\n",
    "<h3>Prepared by Asif Bhat</h3>\n",
    "    \n",
    "<h1>Linear Algebra with Python - Part 1</h1>\n",
    "\n",
    "</div>\n",
    "</body>\n",
    "</html>"
   ]
  },
  {
   "cell_type": "markdown",
   "metadata": {},
   "source": [
    "# Linear Algebra"
   ]
  },
  {
   "cell_type": "code",
   "execution_count": 1,
   "metadata": {},
   "outputs": [],
   "source": [
    "import numpy as np\n",
    "import matplotlib.pyplot as plt\n",
    "from mpl_toolkits.mplot3d import Axes3D"
   ]
  },
  {
   "cell_type": "code",
   "execution_count": 2,
   "metadata": {},
   "outputs": [],
   "source": [
    "v = [3,4]\n",
    "u = [1,2,3]"
   ]
  },
  {
   "cell_type": "code",
   "execution_count": 3,
   "metadata": {},
   "outputs": [
    {
     "data": {
      "text/plain": [
       "([3, 4], [1, 2, 3])"
      ]
     },
     "execution_count": 3,
     "metadata": {},
     "output_type": "execute_result"
    }
   ],
   "source": [
    "v ,u"
   ]
  },
  {
   "cell_type": "code",
   "execution_count": 4,
   "metadata": {},
   "outputs": [
    {
     "data": {
      "text/plain": [
       "list"
      ]
     },
     "execution_count": 4,
     "metadata": {},
     "output_type": "execute_result"
    }
   ],
   "source": [
    "type(v)"
   ]
  },
  {
   "cell_type": "code",
   "execution_count": 5,
   "metadata": {},
   "outputs": [],
   "source": [
    "w = np.array([9,5,7])"
   ]
  },
  {
   "cell_type": "code",
   "execution_count": 6,
   "metadata": {},
   "outputs": [
    {
     "data": {
      "text/plain": [
       "numpy.ndarray"
      ]
     },
     "execution_count": 6,
     "metadata": {},
     "output_type": "execute_result"
    }
   ],
   "source": [
    "type(w)"
   ]
  },
  {
   "cell_type": "code",
   "execution_count": 7,
   "metadata": {},
   "outputs": [
    {
     "data": {
      "text/plain": [
       "3"
      ]
     },
     "execution_count": 7,
     "metadata": {},
     "output_type": "execute_result"
    }
   ],
   "source": [
    "w.shape[0]"
   ]
  },
  {
   "cell_type": "code",
   "execution_count": 8,
   "metadata": {},
   "outputs": [
    {
     "data": {
      "text/plain": [
       "(3,)"
      ]
     },
     "execution_count": 8,
     "metadata": {},
     "output_type": "execute_result"
    }
   ],
   "source": [
    "w.shape"
   ]
  },
  {
   "cell_type": "markdown",
   "metadata": {},
   "source": [
    "# Reading elements from an array "
   ]
  },
  {
   "cell_type": "code",
   "execution_count": 9,
   "metadata": {},
   "outputs": [],
   "source": [
    "a = np.array([7,5,3,9,0,2])"
   ]
  },
  {
   "cell_type": "code",
   "execution_count": 10,
   "metadata": {},
   "outputs": [
    {
     "data": {
      "text/plain": [
       "7"
      ]
     },
     "execution_count": 10,
     "metadata": {},
     "output_type": "execute_result"
    }
   ],
   "source": [
    "a[0]"
   ]
  },
  {
   "cell_type": "code",
   "execution_count": 11,
   "metadata": {},
   "outputs": [
    {
     "data": {
      "text/plain": [
       "array([5, 3, 9, 0, 2])"
      ]
     },
     "execution_count": 11,
     "metadata": {},
     "output_type": "execute_result"
    }
   ],
   "source": [
    "a[1:]"
   ]
  },
  {
   "cell_type": "code",
   "execution_count": 12,
   "metadata": {},
   "outputs": [
    {
     "data": {
      "text/plain": [
       "array([5, 3, 9])"
      ]
     },
     "execution_count": 12,
     "metadata": {},
     "output_type": "execute_result"
    }
   ],
   "source": [
    "a[1:4]"
   ]
  },
  {
   "cell_type": "code",
   "execution_count": 13,
   "metadata": {},
   "outputs": [
    {
     "data": {
      "text/plain": [
       "2"
      ]
     },
     "execution_count": 13,
     "metadata": {},
     "output_type": "execute_result"
    }
   ],
   "source": [
    "a[-1]"
   ]
  },
  {
   "cell_type": "code",
   "execution_count": 14,
   "metadata": {},
   "outputs": [
    {
     "data": {
      "text/plain": [
       "9"
      ]
     },
     "execution_count": 14,
     "metadata": {},
     "output_type": "execute_result"
    }
   ],
   "source": [
    "a[-3]"
   ]
  },
  {
   "cell_type": "code",
   "execution_count": 15,
   "metadata": {},
   "outputs": [
    {
     "data": {
      "text/plain": [
       "7"
      ]
     },
     "execution_count": 15,
     "metadata": {},
     "output_type": "execute_result"
    }
   ],
   "source": [
    "a[-6]"
   ]
  },
  {
   "cell_type": "code",
   "execution_count": 16,
   "metadata": {},
   "outputs": [
    {
     "data": {
      "text/plain": [
       "array([9, 0])"
      ]
     },
     "execution_count": 16,
     "metadata": {},
     "output_type": "execute_result"
    }
   ],
   "source": [
    "a[-3:-1]"
   ]
  },
  {
   "cell_type": "markdown",
   "metadata": {},
   "source": [
    "# Plotting a Vector"
   ]
  },
  {
   "cell_type": "markdown",
   "metadata": {},
   "source": [
    "What is vector : https://www.youtube.com/watch?v=fNk_zzaMoSs&list=PLZHQObOWTQDPD3MizzM2xVFitgF8hE_ab&index=1"
   ]
  },
  {
   "cell_type": "code",
   "execution_count": 17,
   "metadata": {},
   "outputs": [],
   "source": [
    "v = [3,4]\n",
    "u = [1,2,3]"
   ]
  },
  {
   "cell_type": "code",
   "execution_count": 18,
   "metadata": {},
   "outputs": [
    {
     "data": {
      "text/plain": [
       "[<matplotlib.lines.Line2D at 0x7fe638fcaa90>]"
      ]
     },
     "execution_count": 18,
     "metadata": {},
     "output_type": "execute_result"
    },
    {
     "data": {
      "image/png": "[encoded data removed]",
      "text/plain": [
       "<Figure size 432x288 with 1 Axes>"
      ]
     },
     "metadata": {
      "needs_background": "light"
     },
     "output_type": "display_data"
    }
   ],
   "source": [
    "plt.plot (v)"
   ]
  },
  {
   "cell_type": "code",
   "execution_count": 19,
   "metadata": {},
   "outputs": [
    {
     "data": {
      "text/plain": [
       "[<matplotlib.lines.Line2D at 0x7fe6489648e0>]"
      ]
     },
     "execution_count": 19,
     "metadata": {},
     "output_type": "execute_result"
    },
    {
     "data": {
      "image/png": "[encoded data removed]",
      "text/plain": [
       "<Figure size 432x288 with 1 Axes>"
      ]
     },
     "metadata": {
      "needs_background": "light"
     },
     "output_type": "display_data"
    }
   ],
   "source": [
    "plt.plot([0,v[0]] , [0,v[1]])"
   ]
  },
  {
   "cell_type": "markdown",
   "metadata": {},
   "source": [
    "# Plot 2D Vector"
   ]
  },
  {
   "cell_type": "code",
   "execution_count": 20,
   "metadata": {},
   "outputs": [
    {
     "data": {
      "image/png": "[encoded data removed]",
      "text/plain": [
       "<Figure size 432x288 with 1 Axes>"
      ]
     },
     "metadata": {
      "needs_background": "light"
     },
     "output_type": "display_data"
    }
   ],
   "source": [
    "plt.plot([0,v[0]] , [0,v[1]])\n",
    "plt.plot([8,-8] , [0,0] , 'k--')\n",
    "plt.plot([0,0] , [8,-8] , 'k--')\n",
    "plt.grid()\n",
    "plt.axis((-8, 8, -8, 8))\n",
    "plt.show()"
   ]
  },
  {
   "cell_type": "markdown",
   "metadata": {},
   "source": [
    "# Plot the 3D vector"
   ]
  },
  {
   "cell_type": "code",
   "execution_count": 21,
   "metadata": {},
   "outputs": [
    {
     "data": {
      "image/png": "[encoded data removed]",
      "text/plain": [
       "<Figure size 432x288 with 1 Axes>"
      ]
     },
     "metadata": {
      "needs_background": "light"
     },
     "output_type": "display_data"
    }
   ],
   "source": [
    "fig = plt.figure()\n",
    "ax = fig.add_subplot(111, projection='3d', auto_add_to_figure=False)\n",
    "u = [1, 2, 3]  # Define the vector\n",
    "ax.plot([0, u[0]], [0, u[1]], [0, u[2]])  # Plot the vector\n",
    "ax.set_box_aspect([1, 1, 1])  # Set the aspect ratio of the 3D box\n",
    "ax.plot([0, 0], [0, 0], [-5, 5], 'k--')  # Plot the x, y, and z axes\n",
    "ax.plot([0, 0], [-5, 5], [0, 0], 'k--')\n",
    "ax.plot([-5, 5], [0, 0], [0, 0], 'k--')\n",
    "fig.add_axes(ax)  # Add the Axes3D object to the figure\n",
    "plt.show()"
   ]
  },
  {
   "cell_type": "markdown",
   "metadata": {},
   "source": [
    "# Vector Addition"
   ]
  },
  {
   "cell_type": "code",
   "execution_count": 22,
   "metadata": {},
   "outputs": [
    {
     "name": "stdout",
     "output_type": "stream",
     "text": [
      "V3 = [4 6]\n"
     ]
    },
    {
     "data": {
      "image/png": "[encoded data removed]",
      "text/plain": [
       "<Figure size 432x288 with 1 Axes>"
      ]
     },
     "metadata": {
      "needs_background": "light"
     },
     "output_type": "display_data"
    }
   ],
   "source": [
    "v1 = np.array([1,2])\n",
    "v2 = np.array([3,4])\n",
    "v3 = v1+v2\n",
    "v3 = np.add(v1,v2)\n",
    "print('V3 =' ,v3)\n",
    "plt.plot([0,v1[0]] , [0,v1[1]] , 'r' , label = 'v1')\n",
    "plt.plot([0,v2[0]] , [0,v2[1]], 'b' , label = 'v2')\n",
    "plt.plot([0,v3[0]] , [0,v3[1]] , 'g' , label = 'v3')\n",
    "plt.plot([8,-8] , [0,0] , 'k--')\n",
    "plt.plot([0,0] , [8,-8] , 'k--')\n",
    "plt.grid()\n",
    "plt.axis((-8, 8, -8, 8))\n",
    "plt.legend()\n",
    "plt.show()"
   ]
  },
  {
   "cell_type": "code",
   "execution_count": 23,
   "metadata": {},
   "outputs": [
    {
     "data": {
      "image/png": "[encoded data removed]",
      "text/plain": [
       "<Figure size 432x288 with 1 Axes>"
      ]
     },
     "metadata": {
      "needs_background": "light"
     },
     "output_type": "display_data"
    }
   ],
   "source": [
    "plt.plot([0,v1[0]] , [0,v1[1]] , 'r' , label = 'v1')\n",
    "plt.plot([0,v2[0]]+v1[0] , [0,v2[1]]+v1[1], 'b' , label = 'v2')\n",
    "plt.plot([0,v3[0]] , [0,v3[1]] , 'g' , label = 'v3')\n",
    "plt.plot([8,-8] , [0,0] , 'k--')\n",
    "plt.plot([0,0] , [8,-8] , 'k--')\n",
    "plt.grid()\n",
    "plt.axis((-8, 8, -8, 8))\n",
    "plt.legend()\n",
    "plt.show()"
   ]
  },
  {
   "cell_type": "markdown",
   "metadata": {},
   "source": [
    "# Scalar Multiplication"
   ]
  },
  {
   "cell_type": "code",
   "execution_count": 24,
   "metadata": {},
   "outputs": [
    {
     "data": {
      "image/png": "[encoded data removed]",
      "text/plain": [
       "<Figure size 432x288 with 1 Axes>"
      ]
     },
     "metadata": {
      "needs_background": "light"
     },
     "output_type": "display_data"
    }
   ],
   "source": [
    "u1 = np.array([3,4])\n",
    "a = .5\n",
    "u2 = u1*a\n",
    "plt.plot([0,u1[0]] , [0,u1[1]] , 'r' , label = 'v1')\n",
    "plt.plot([0,u2[0]] , [0,u2[1]], 'b--' , label = 'v2')\n",
    "plt.plot([8,-8] , [0,0] , 'k--')\n",
    "plt.plot([0,0] , [8,-8] , 'k--')\n",
    "plt.grid()\n",
    "plt.axis((-8, 8, -8, 8))\n",
    "plt.legend()\n",
    "plt.show()"
   ]
  },
  {
   "cell_type": "code",
   "execution_count": 25,
   "metadata": {},
   "outputs": [
    {
     "data": {
      "image/png": "[encoded data removed]",
      "text/plain": [
       "<Figure size 432x288 with 1 Axes>"
      ]
     },
     "metadata": {
      "needs_background": "light"
     },
     "output_type": "display_data"
    }
   ],
   "source": [
    "u1 = np.array([3,4])\n",
    "a = -.3\n",
    "u2 = u1*a\n",
    "plt.plot([0,u1[0]] , [0,u1[1]] , 'r' , label = 'v1')\n",
    "plt.plot([0,u2[0]] , [0,u2[1]], 'b' , label = 'v2')\n",
    "plt.plot([8,-8] , [0,0] , 'k--')\n",
    "plt.plot([0,0] , [8,-8] , 'k--')\n",
    "plt.grid()\n",
    "plt.axis((-8, 8, -8, 8))\n",
    "plt.legend()\n",
    "plt.show()"
   ]
  },
  {
   "cell_type": "markdown",
   "metadata": {},
   "source": [
    "# Multiplication of vectors"
   ]
  },
  {
   "cell_type": "code",
   "execution_count": 26,
   "metadata": {},
   "outputs": [
    {
     "name": "stdout",
     "output_type": "stream",
     "text": [
      "[20 42 72]\n"
     ]
    }
   ],
   "source": [
    "a1 = [5 , 6 ,8]\n",
    "a2 = [4, 7 , 9]\n",
    "print(np.multiply(a1,a2))"
   ]
  },
  {
   "cell_type": "markdown",
   "metadata": {},
   "source": [
    "# Dot Product"
   ]
  },
  {
   "cell_type": "markdown",
   "metadata": {},
   "source": [
    "Dot Product :\n",
    "- https://www.youtube.com/watch?v=WNuIhXo39_k\n",
    "- https://www.youtube.com/watch?v=LyGKycYT2v0"
   ]
  },
  {
   "cell_type": "code",
   "execution_count": 27,
   "metadata": {},
   "outputs": [
    {
     "name": "stdout",
     "output_type": "stream",
     "text": [
      " Dot product -  32\n",
      " Dot product usign np.dot 32\n",
      " Dot product usign np.inner 32\n",
      " Dot product usign np.multiply & sum 32\n",
      " Dot product usign np.matmul 32\n",
      " Dot product usign for loop 32\n"
     ]
    }
   ],
   "source": [
    "a1 = np.array([1,2,3])\n",
    "a2 = np.array([4,5,6])\n",
    "\n",
    "dotp = a1@a2\n",
    "print(\" Dot product - \",dotp)\n",
    "\n",
    "dotp = np.dot(a1,a2)\n",
    "print(\" Dot product usign np.dot\",dotp)\n",
    "\n",
    "dotp = np.inner(a1,a2)\n",
    "print(\" Dot product usign np.inner\", dotp)\n",
    "\n",
    "dotp = sum(np.multiply(a1,a2))\n",
    "print(\" Dot product usign np.multiply & sum\",dotp)\n",
    "\n",
    "dotp = np.matmul(a1,a2)\n",
    "print(\" Dot product usign np.matmul\",dotp)\n",
    "\n",
    "dotp = 0\n",
    "for i in range(len(a1)):\n",
    "    dotp = dotp + a1[i]*a2[i]\n",
    "print(\" Dot product usign for loop\" , dotp)"
   ]
  },
  {
   "cell_type": "markdown",
   "metadata": {},
   "source": [
    "# Length of Vector"
   ]
  },
  {
   "cell_type": "code",
   "execution_count": 28,
   "metadata": {},
   "outputs": [
    {
     "data": {
      "text/plain": [
       "9.539392014169456"
      ]
     },
     "execution_count": 28,
     "metadata": {},
     "output_type": "execute_result"
    }
   ],
   "source": [
    "v3 = np.array([1,2,3,4,5,6])\n",
    "length = np.sqrt(np.dot(v3,v3))\n",
    "length"
   ]
  },
  {
   "cell_type": "code",
   "execution_count": 29,
   "metadata": {},
   "outputs": [
    {
     "data": {
      "text/plain": [
       "9.539392014169456"
      ]
     },
     "execution_count": 29,
     "metadata": {},
     "output_type": "execute_result"
    }
   ],
   "source": [
    "v3 = np.array([1,2,3,4,5,6])\n",
    "length = np.sqrt(sum(np.multiply(v3,v3)))\n",
    "length"
   ]
  },
  {
   "cell_type": "code",
   "execution_count": 30,
   "metadata": {},
   "outputs": [
    {
     "data": {
      "text/plain": [
       "9.539392014169456"
      ]
     },
     "execution_count": 30,
     "metadata": {},
     "output_type": "execute_result"
    }
   ],
   "source": [
    "v3 = np.array([1,2,3,4,5,6])\n",
    "length = np.sqrt(np.matmul(v3,v3))\n",
    "length"
   ]
  },
  {
   "cell_type": "markdown",
   "metadata": {},
   "source": [
    "# Normalized Vector"
   ]
  },
  {
   "cell_type": "markdown",
   "metadata": {},
   "source": [
    "How to normalize a vector : https://www.youtube.com/watch?v=7fn03DIW3Ak"
   ]
  },
  {
   "cell_type": "code",
   "execution_count": 31,
   "metadata": {},
   "outputs": [
    {
     "data": {
      "text/plain": [
       "(3.605551275463989, array([0.5547002 , 0.83205029]))"
      ]
     },
     "execution_count": 31,
     "metadata": {},
     "output_type": "execute_result"
    }
   ],
   "source": [
    "v1 = [2,3]\n",
    "length_v1 = np.sqrt(np.dot(v1,v1))\n",
    "norm_v1 = v1/length_v1\n",
    "length_v1 , norm_v1"
   ]
  },
  {
   "cell_type": "code",
   "execution_count": 32,
   "metadata": {},
   "outputs": [
    {
     "data": {
      "text/plain": [
       "array([0.5547002 , 0.83205029])"
      ]
     },
     "execution_count": 32,
     "metadata": {},
     "output_type": "execute_result"
    }
   ],
   "source": [
    "v1 = [2,3]\n",
    "norm_v1 = v1/np.linalg.norm(v1)\n",
    "norm_v1"
   ]
  },
  {
   "cell_type": "markdown",
   "metadata": {},
   "source": [
    "# Angle between vectors"
   ]
  },
  {
   "cell_type": "markdown",
   "metadata": {},
   "source": [
    "Angle between two vectors : https://www.youtube.com/watch?v=WDdR5s0C4cY"
   ]
  },
  {
   "cell_type": "code",
   "execution_count": 33,
   "metadata": {},
   "outputs": [
    {
     "data": {
      "image/png": "[encoded data removed]",
      "text/plain": [
       "<Figure size 432x288 with 1 Axes>"
      ]
     },
     "metadata": {
      "needs_background": "light"
     },
     "output_type": "display_data"
    }
   ],
   "source": [
    "#First Method\n",
    "v1 = np.array([8,4])\n",
    "v2 = np.array([-4,8])\n",
    "ang = np.rad2deg(np.arccos( np.dot(v1,v2) / (np.linalg.norm(v1)*np.linalg.norm(v2))))\n",
    "plt.plot([0,v1[0]] , [0,v1[1]] , 'r' , label = 'v1')\n",
    "plt.plot([0,v2[0]]+v1[0] , [0,v2[1]]+v1[1], 'b' , label = 'v2')\n",
    "plt.plot([16,-16] , [0,0] , 'k--')\n",
    "plt.plot([0,0] , [16,-16] , 'k--')\n",
    "plt.grid()\n",
    "plt.axis((-16, 16, -16, 16))\n",
    "plt.legend()\n",
    "plt.title('Angle between Vectors - %s'  %ang)\n",
    "plt.show()"
   ]
  },
  {
   "cell_type": "code",
   "execution_count": 34,
   "metadata": {},
   "outputs": [
    {
     "name": "stdout",
     "output_type": "stream",
     "text": [
      "Angle between Vectors - 90.0\n"
     ]
    }
   ],
   "source": [
    "#Second Method\n",
    "v1 = np.array([4,3])\n",
    "v2 = np.array([-3,4])\n",
    "lengthV1 = np.sqrt(np.dot(v1,v1)) \n",
    "lengthV2  = np.sqrt(np.dot(v2,v2))\n",
    "ang = np.rad2deg(np.arccos( np.dot(v1,v2) / (lengthV1 * lengthV2)))\n",
    "print('Angle between Vectors - %s' %ang)"
   ]
  },
  {
   "cell_type": "code",
   "execution_count": 35,
   "metadata": {},
   "outputs": [
    {
     "data": {
      "image/png": "[encoded data removed]",
      "text/plain": [
       "<Figure size 432x288 with 1 Axes>"
      ]
     },
     "metadata": {
      "needs_background": "light"
     },
     "output_type": "display_data"
    }
   ],
   "source": [
    "v1 = np.array([1,2,-3])\n",
    "v2 = np.array([7,-4,2])\n",
    "\n",
    "fig = plt.figure()\n",
    "ax = fig.add_subplot(111, projection='3d')\n",
    "ax.plot([0, v1[0]], [0, v1[1]], [0, v1[2]], 'b')\n",
    "ax.plot([0, v2[0]], [0, v2[1]], [0, v2[2]], 'r')\n",
    "\n",
    "ang = np.rad2deg(np.arccos(np.dot(v1, v2) / (np.linalg.norm(v1) * np.linalg.norm(v2))))\n",
    "plt.title('Angle between vectors: %s degrees.' % ang)\n",
    "\n",
    "plt.show()"
   ]
  },
  {
   "cell_type": "markdown",
   "metadata": {},
   "source": [
    "# Inner & outer products"
   ]
  },
  {
   "cell_type": "markdown",
   "metadata": {},
   "source": [
    "Inner and Outer Product : https://www.youtube.com/watch?v=FCmH4MqbFGs&t=2s"
   ]
  },
  {
   "cell_type": "code",
   "execution_count": 36,
   "metadata": {},
   "outputs": [
    {
     "name": "stdout",
     "output_type": "stream",
     "text": [
      "\n",
      " Inner Product ==>  \n",
      " 32\n",
      "\n",
      " Outer Product ==>  \n",
      " [[ 4  5  6]\n",
      " [ 8 10 12]\n",
      " [12 15 18]]\n"
     ]
    }
   ],
   "source": [
    "# https://www.youtube.com/watch?v=FCmH4MqbFGs\n",
    "\n",
    "v1 = np.array([1,2,3])\n",
    "v2 = np.array([4,5,6])\n",
    "np.inner(v1,v2)\n",
    "\n",
    "print(\"\\n Inner Product ==>  \\n\", np.inner(v1,v2))\n",
    "print(\"\\n Outer Product ==>  \\n\", np.outer(v1,v2))"
   ]
  },
  {
   "cell_type": "markdown",
   "metadata": {},
   "source": [
    "# Vector Cross Product"
   ]
  },
  {
   "cell_type": "markdown",
   "metadata": {},
   "source": [
    "Vector Cross Product : https://www.youtube.com/watch?v=pWbOisq1MJU"
   ]
  },
  {
   "cell_type": "code",
   "execution_count": 37,
   "metadata": {},
   "outputs": [
    {
     "name": "stdout",
     "output_type": "stream",
     "text": [
      "\n",
      "Vector Cross Product ==>  \n",
      " [-3  6 -3]\n"
     ]
    }
   ],
   "source": [
    "v1 = np.array([1,2,3])\n",
    "v2 = np.array([4,5,6])\n",
    "print(\"\\nVector Cross Product ==>  \\n\", np.cross(v1,v2))"
   ]
  },
  {
   "cell_type": "markdown",
   "metadata": {},
   "source": [
    "# Matrix Operations"
   ]
  },
  {
   "cell_type": "markdown",
   "metadata": {},
   "source": [
    "##  Matrix Creation"
   ]
  },
  {
   "cell_type": "code",
   "execution_count": 38,
   "metadata": {},
   "outputs": [],
   "source": [
    "A = np.array([[1,2,3,4] , [5,6,7,8] , [10 , 11 , 12 ,13] , [14,15,16,17]])"
   ]
  },
  {
   "cell_type": "code",
   "execution_count": 39,
   "metadata": {},
   "outputs": [
    {
     "data": {
      "text/plain": [
       "array([[ 1,  2,  3,  4],\n",
       "       [ 5,  6,  7,  8],\n",
       "       [10, 11, 12, 13],\n",
       "       [14, 15, 16, 17]])"
      ]
     },
     "execution_count": 39,
     "metadata": {},
     "output_type": "execute_result"
    }
   ],
   "source": [
    "A"
   ]
  },
  {
   "cell_type": "code",
   "execution_count": 40,
   "metadata": {},
   "outputs": [
    {
     "data": {
      "text/plain": [
       "numpy.ndarray"
      ]
     },
     "execution_count": 40,
     "metadata": {},
     "output_type": "execute_result"
    }
   ],
   "source": [
    "type(A)"
   ]
  },
  {
   "cell_type": "code",
   "execution_count": 41,
   "metadata": {},
   "outputs": [
    {
     "data": {
      "text/plain": [
       "dtype('int64')"
      ]
     },
     "execution_count": 41,
     "metadata": {},
     "output_type": "execute_result"
    }
   ],
   "source": [
    "A.dtype"
   ]
  },
  {
   "cell_type": "code",
   "execution_count": 42,
   "metadata": {},
   "outputs": [
    {
     "data": {
      "text/plain": [
       "array([[ 1.5 ,  2.07,  3.  ,  4.  ],\n",
       "       [ 5.  ,  6.  ,  7.  ,  8.  ],\n",
       "       [10.  , 11.  , 12.  , 13.  ],\n",
       "       [14.  , 15.  , 16.  , 17.  ]])"
      ]
     },
     "execution_count": 42,
     "metadata": {},
     "output_type": "execute_result"
    }
   ],
   "source": [
    "B = np.array([[1.5,2.07,3,4] , [5,6,7,8] , [10 , 11 , 12 ,13] , [14,15,16,17]])\n",
    "B"
   ]
  },
  {
   "cell_type": "code",
   "execution_count": 43,
   "metadata": {},
   "outputs": [
    {
     "data": {
      "text/plain": [
       "numpy.ndarray"
      ]
     },
     "execution_count": 43,
     "metadata": {},
     "output_type": "execute_result"
    }
   ],
   "source": [
    "type(B)"
   ]
  },
  {
   "cell_type": "code",
   "execution_count": 44,
   "metadata": {},
   "outputs": [
    {
     "data": {
      "text/plain": [
       "dtype('float64')"
      ]
     },
     "execution_count": 44,
     "metadata": {},
     "output_type": "execute_result"
    }
   ],
   "source": [
    "B.dtype"
   ]
  },
  {
   "cell_type": "code",
   "execution_count": 45,
   "metadata": {},
   "outputs": [
    {
     "data": {
      "text/plain": [
       "(4, 4)"
      ]
     },
     "execution_count": 45,
     "metadata": {},
     "output_type": "execute_result"
    }
   ],
   "source": [
    "A.shape"
   ]
  },
  {
   "cell_type": "code",
   "execution_count": 46,
   "metadata": {},
   "outputs": [
    {
     "data": {
      "text/plain": [
       "array([1, 2, 3, 4])"
      ]
     },
     "execution_count": 46,
     "metadata": {},
     "output_type": "execute_result"
    }
   ],
   "source": [
    "A[0,]"
   ]
  },
  {
   "cell_type": "code",
   "execution_count": 47,
   "metadata": {},
   "outputs": [
    {
     "data": {
      "text/plain": [
       "array([ 1,  5, 10, 14])"
      ]
     },
     "execution_count": 47,
     "metadata": {},
     "output_type": "execute_result"
    }
   ],
   "source": [
    "A[:,0]"
   ]
  },
  {
   "cell_type": "code",
   "execution_count": 48,
   "metadata": {},
   "outputs": [
    {
     "data": {
      "text/plain": [
       "1"
      ]
     },
     "execution_count": 48,
     "metadata": {},
     "output_type": "execute_result"
    }
   ],
   "source": [
    "A[0,0]"
   ]
  },
  {
   "cell_type": "code",
   "execution_count": 49,
   "metadata": {},
   "outputs": [
    {
     "data": {
      "text/plain": [
       "1"
      ]
     },
     "execution_count": 49,
     "metadata": {},
     "output_type": "execute_result"
    }
   ],
   "source": [
    "A[0][0]"
   ]
  },
  {
   "cell_type": "code",
   "execution_count": 50,
   "metadata": {},
   "outputs": [
    {
     "data": {
      "text/plain": [
       "array([[ 6,  7],\n",
       "       [11, 12]])"
      ]
     },
     "execution_count": 50,
     "metadata": {},
     "output_type": "execute_result"
    }
   ],
   "source": [
    "A[1:3 , 1:3]"
   ]
  },
  {
   "cell_type": "markdown",
   "metadata": {},
   "source": [
    "Matrix Types : \n",
    "   - https://www.youtube.com/watch?v=alc9i7V2e9Q&list=PLmdFyQYShrjcoVkhCCIwxNj9N4rW1-T5I&index=5\n",
    "   - https://www.youtube.com/watch?v=nfG4NwLhH14&list=PLmdFyQYShrjcoVkhCCIwxNj9N4rW1-T5I&index=6"
   ]
  },
  {
   "cell_type": "markdown",
   "metadata": {},
   "source": [
    "# Zero Matrix"
   ]
  },
  {
   "cell_type": "markdown",
   "metadata": {},
   "source": [
    "Zero Matrix - https://www.web-formulas.com/Math_Formulas/Linear_Algebra_Definition_of_Zero_Matrix.aspx"
   ]
  },
  {
   "cell_type": "code",
   "execution_count": 51,
   "metadata": {},
   "outputs": [
    {
     "data": {
      "text/plain": [
       "array([[0., 0., 0.],\n",
       "       [0., 0., 0.],\n",
       "       [0., 0., 0.]])"
      ]
     },
     "execution_count": 51,
     "metadata": {},
     "output_type": "execute_result"
    }
   ],
   "source": [
    "np.zeros(9).reshape(3,3)"
   ]
  },
  {
   "cell_type": "code",
   "execution_count": 52,
   "metadata": {},
   "outputs": [
    {
     "data": {
      "text/plain": [
       "array([[0., 0., 0.],\n",
       "       [0., 0., 0.],\n",
       "       [0., 0., 0.]])"
      ]
     },
     "execution_count": 52,
     "metadata": {},
     "output_type": "execute_result"
    }
   ],
   "source": [
    "np.zeros((3,3))"
   ]
  },
  {
   "cell_type": "markdown",
   "metadata": {},
   "source": [
    "# Matrix of Ones"
   ]
  },
  {
   "cell_type": "markdown",
   "metadata": {},
   "source": [
    "Matrix of Ones - https://en.wikipedia.org/wiki/Matrix_of_ones"
   ]
  },
  {
   "cell_type": "code",
   "execution_count": 53,
   "metadata": {},
   "outputs": [
    {
     "data": {
      "text/plain": [
       "array([[1., 1., 1.],\n",
       "       [1., 1., 1.],\n",
       "       [1., 1., 1.]])"
      ]
     },
     "execution_count": 53,
     "metadata": {},
     "output_type": "execute_result"
    }
   ],
   "source": [
    "np.ones(9).reshape(3,3)"
   ]
  },
  {
   "cell_type": "code",
   "execution_count": 54,
   "metadata": {},
   "outputs": [
    {
     "data": {
      "text/plain": [
       "array([[1., 1., 1.],\n",
       "       [1., 1., 1.],\n",
       "       [1., 1., 1.]])"
      ]
     },
     "execution_count": 54,
     "metadata": {},
     "output_type": "execute_result"
    }
   ],
   "source": [
    "np.ones((3,3))"
   ]
  },
  {
   "cell_type": "markdown",
   "metadata": {},
   "source": [
    "# Matrix with Random Numbers"
   ]
  },
  {
   "cell_type": "code",
   "execution_count": 55,
   "metadata": {},
   "outputs": [
    {
     "data": {
      "text/plain": [
       "array([[0.30026247, 0.28235787, 0.7030474 ],\n",
       "       [0.92228293, 0.35079884, 0.29033682],\n",
       "       [0.39624807, 0.6496108 , 0.61999024]])"
      ]
     },
     "execution_count": 55,
     "metadata": {},
     "output_type": "execute_result"
    }
   ],
   "source": [
    "X = np.random.random((3,3))\n",
    "X"
   ]
  },
  {
   "cell_type": "markdown",
   "metadata": {},
   "source": [
    "# Identity Matrix"
   ]
  },
  {
   "cell_type": "markdown",
   "metadata": {},
   "source": [
    "Identity Matrix : https://en.wikipedia.org/wiki/Identity_matrix"
   ]
  },
  {
   "cell_type": "code",
   "execution_count": 56,
   "metadata": {},
   "outputs": [
    {
     "data": {
      "text/plain": [
       "array([[1., 0., 0., 0., 0., 0., 0., 0., 0.],\n",
       "       [0., 1., 0., 0., 0., 0., 0., 0., 0.],\n",
       "       [0., 0., 1., 0., 0., 0., 0., 0., 0.],\n",
       "       [0., 0., 0., 1., 0., 0., 0., 0., 0.],\n",
       "       [0., 0., 0., 0., 1., 0., 0., 0., 0.],\n",
       "       [0., 0., 0., 0., 0., 1., 0., 0., 0.],\n",
       "       [0., 0., 0., 0., 0., 0., 1., 0., 0.],\n",
       "       [0., 0., 0., 0., 0., 0., 0., 1., 0.],\n",
       "       [0., 0., 0., 0., 0., 0., 0., 0., 1.]])"
      ]
     },
     "execution_count": 56,
     "metadata": {},
     "output_type": "execute_result"
    }
   ],
   "source": [
    "I = np.eye(9)\n",
    "I"
   ]
  },
  {
   "cell_type": "markdown",
   "metadata": {},
   "source": [
    "# Diagonal Matrix "
   ]
  },
  {
   "cell_type": "markdown",
   "metadata": {},
   "source": [
    "Diagonal Matrix : https://en.wikipedia.org/wiki/Diagonal_matrix"
   ]
  },
  {
   "cell_type": "code",
   "execution_count": 57,
   "metadata": {},
   "outputs": [
    {
     "data": {
      "text/plain": [
       "array([[1, 0, 0, 0, 0, 0, 0, 0],\n",
       "       [0, 2, 0, 0, 0, 0, 0, 0],\n",
       "       [0, 0, 3, 0, 0, 0, 0, 0],\n",
       "       [0, 0, 0, 4, 0, 0, 0, 0],\n",
       "       [0, 0, 0, 0, 5, 0, 0, 0],\n",
       "       [0, 0, 0, 0, 0, 6, 0, 0],\n",
       "       [0, 0, 0, 0, 0, 0, 7, 0],\n",
       "       [0, 0, 0, 0, 0, 0, 0, 8]])"
      ]
     },
     "execution_count": 57,
     "metadata": {},
     "output_type": "execute_result"
    }
   ],
   "source": [
    "D = np.diag([1,2,3,4,5,6,7,8])\n",
    "D"
   ]
  },
  {
   "cell_type": "markdown",
   "metadata": {},
   "source": [
    "# Traingular Matrices (lower & Upper triangular matrix)"
   ]
  },
  {
   "cell_type": "markdown",
   "metadata": {},
   "source": [
    "Traingular Matrices : https://en.wikipedia.org/wiki/Triangular_matrix"
   ]
  },
  {
   "cell_type": "code",
   "execution_count": 58,
   "metadata": {},
   "outputs": [
    {
     "name": "stdout",
     "output_type": "stream",
     "text": [
      "lower triangular matrix - \n",
      " [[2 7 5 3 0]\n",
      " [2 9 8 2 2]\n",
      " [8 4 7 4 8]\n",
      " [2 2 4 4 6]\n",
      " [8 1 8 0 5]]\n",
      "\n",
      "\n",
      "lower triangular matrix - \n",
      " [[2 0 0 0 0]\n",
      " [2 9 0 0 0]\n",
      " [8 4 7 0 0]\n",
      " [2 2 4 4 0]\n",
      " [8 1 8 0 5]]\n",
      "\n",
      "\n",
      "Upper triangular matrix - \n",
      " [[2 7 5 3 0]\n",
      " [0 9 8 2 2]\n",
      " [0 0 7 4 8]\n",
      " [0 0 0 4 6]\n",
      " [0 0 0 0 5]]\n"
     ]
    }
   ],
   "source": [
    "M = np.random.randint(0, 10, size=(5,5))\n",
    "U = np.triu(M)\n",
    "L = np.tril(M)\n",
    "print(\"lower triangular matrix - \\n\" , M)\n",
    "print(\"\\n\")\n",
    "\n",
    "\n",
    "print(\"lower triangular matrix - \\n\" , L)\n",
    "print(\"\\n\")\n",
    "\n",
    "print(\"Upper triangular matrix - \\n\" , U)"
   ]
  },
  {
   "cell_type": "markdown",
   "metadata": {},
   "source": [
    "# Concatenate Matrices"
   ]
  },
  {
   "cell_type": "markdown",
   "metadata": {},
   "source": [
    "Matrix Concatenation : https://docs.scipy.org/doc/numpy/reference/generated/numpy.concatenate.html"
   ]
  },
  {
   "cell_type": "code",
   "execution_count": 59,
   "metadata": {},
   "outputs": [
    {
     "data": {
      "text/plain": [
       "(array([[1, 2],\n",
       "        [3, 4],\n",
       "        [5, 6],\n",
       "        [1, 1],\n",
       "        [1, 1]]),\n",
       " (5, 2),\n",
       " numpy.ndarray,\n",
       " dtype('int64'))"
      ]
     },
     "execution_count": 59,
     "metadata": {},
     "output_type": "execute_result"
    }
   ],
   "source": [
    "A = np.array([[1,2] , [3,4] ,[5,6]])\n",
    "B = np.array([[1,1] , [1,1]])\n",
    "C = np.concatenate((A,B))\n",
    "C , C.shape , type(C) , C.dtype"
   ]
  },
  {
   "cell_type": "code",
   "execution_count": 60,
   "metadata": {},
   "outputs": [
    {
     "data": {
      "text/plain": [
       "array([[8, 8, 8, 8, 8],\n",
       "       [8, 8, 8, 8, 8],\n",
       "       [8, 8, 8, 8, 8],\n",
       "       [8, 8, 8, 8, 8],\n",
       "       [8, 8, 8, 8, 8]])"
      ]
     },
     "execution_count": 60,
     "metadata": {},
     "output_type": "execute_result"
    }
   ],
   "source": [
    "np.full((5,5) , 8)"
   ]
  },
  {
   "cell_type": "code",
   "execution_count": 61,
   "metadata": {},
   "outputs": [
    {
     "data": {
      "text/plain": [
       "array([[2, 7, 5, 3, 0],\n",
       "       [2, 9, 8, 2, 2],\n",
       "       [8, 4, 7, 4, 8],\n",
       "       [2, 2, 4, 4, 6],\n",
       "       [8, 1, 8, 0, 5]])"
      ]
     },
     "execution_count": 61,
     "metadata": {},
     "output_type": "execute_result"
    }
   ],
   "source": [
    "M"
   ]
  },
  {
   "cell_type": "code",
   "execution_count": 62,
   "metadata": {},
   "outputs": [
    {
     "data": {
      "text/plain": [
       "array([2, 7, 5, 3, 0, 2, 9, 8, 2, 2, 8, 4, 7, 4, 8, 2, 2, 4, 4, 6, 8, 1,\n",
       "       8, 0, 5])"
      ]
     },
     "execution_count": 62,
     "metadata": {},
     "output_type": "execute_result"
    }
   ],
   "source": [
    "M.flatten()"
   ]
  },
  {
   "cell_type": "markdown",
   "metadata": {},
   "source": [
    "# Matrix Addition"
   ]
  },
  {
   "cell_type": "markdown",
   "metadata": {},
   "source": [
    "Matrix Addition : https://www.youtube.com/watch?v=ZCmVpGv6_1g"
   ]
  },
  {
   "cell_type": "code",
   "execution_count": 63,
   "metadata": {},
   "outputs": [
    {
     "name": "stdout",
     "output_type": "stream",
     "text": [
      "\n",
      " First Matrix (M)  ==>  \n",
      " [[ 1  2  3]\n",
      " [ 4 -3  6]\n",
      " [ 7  8  0]]\n",
      "\n",
      " Second Matrix (N)  ==>  \n",
      " [[1 1 1]\n",
      " [2 2 2]\n",
      " [3 3 3]]\n",
      "\n",
      " Matrix Addition (M+N)  ==>  \n",
      " [[ 2  3  4]\n",
      " [ 6 -1  8]\n",
      " [10 11  3]]\n",
      "\n",
      " Matrix Addition using np.add  ==>  \n",
      " [[ 2.  3.  4.]\n",
      " [ 6. -1.  8.]\n",
      " [10. 11.  3.]]\n"
     ]
    }
   ],
   "source": [
    "#********************************************************#\n",
    "M = np.array([[1,2,3],[4,-3,6],[7,8,0]])\n",
    "N = np.array([[1,1,1],[2,2,2],[3,3,3]])\n",
    "\n",
    "print(\"\\n First Matrix (M)  ==>  \\n\", M)\n",
    "print(\"\\n Second Matrix (N)  ==>  \\n\", N)\n",
    "\n",
    "C = M+N\n",
    "print(\"\\n Matrix Addition (M+N)  ==>  \\n\", C)\n",
    "\n",
    "# OR\n",
    "\n",
    "C = np.add(M,N,dtype = np.float64)\n",
    "print(\"\\n Matrix Addition using np.add  ==>  \\n\", C)\n",
    "\n",
    "#********************************************************#"
   ]
  },
  {
   "cell_type": "markdown",
   "metadata": {},
   "source": [
    "# Matrix subtraction"
   ]
  },
  {
   "cell_type": "markdown",
   "metadata": {},
   "source": [
    "Matrix subtraction : https://www.youtube.com/watch?v=7jb_AO_hRc8&list=PLmdFyQYShrjcoVkhCCIwxNj9N4rW1-T5I&index=8"
   ]
  },
  {
   "cell_type": "code",
   "execution_count": 64,
   "metadata": {},
   "outputs": [
    {
     "name": "stdout",
     "output_type": "stream",
     "text": [
      "\n",
      " First Matrix (M)  ==>  \n",
      " [[ 1  2  3]\n",
      " [ 4 -3  6]\n",
      " [ 7  8  0]]\n",
      "\n",
      " Second Matrix (N)  ==>  \n",
      " [[1 1 1]\n",
      " [2 2 2]\n",
      " [3 3 3]]\n",
      "\n",
      " Matrix Subtraction (M-N)  ==>  \n",
      " [[ 0  1  2]\n",
      " [ 2 -5  4]\n",
      " [ 4  5 -3]]\n",
      "\n",
      " Matrix Subtraction using np.subtract  ==>  \n",
      " [[ 0.  1.  2.]\n",
      " [ 2. -5.  4.]\n",
      " [ 4.  5. -3.]]\n"
     ]
    }
   ],
   "source": [
    "#********************************************************#\n",
    "M = np.array([[1,2,3],[4,-3,6],[7,8,0]])\n",
    "N = np.array([[1,1,1],[2,2,2],[3,3,3]])\n",
    "\n",
    "print(\"\\n First Matrix (M)  ==>  \\n\", M)\n",
    "print(\"\\n Second Matrix (N)  ==>  \\n\", N)\n",
    "\n",
    "C = M-N\n",
    "print(\"\\n Matrix Subtraction (M-N)  ==>  \\n\", C)\n",
    "\n",
    "# OR\n",
    "\n",
    "C = np.subtract(M,N,dtype = np.float64)\n",
    "print(\"\\n Matrix Subtraction using np.subtract  ==>  \\n\", C)\n",
    "\n",
    "#********************************************************#"
   ]
  },
  {
   "cell_type": "markdown",
   "metadata": {},
   "source": [
    "# Matrices Scalar Multiplication"
   ]
  },
  {
   "cell_type": "markdown",
   "metadata": {},
   "source": [
    "Matrices Scalar Multiplication : https://www.youtube.com/watch?v=4lHyTQH1iS8&list=PLmdFyQYShrjcoVkhCCIwxNj9N4rW1-T5I&index=9"
   ]
  },
  {
   "cell_type": "code",
   "execution_count": 65,
   "metadata": {},
   "outputs": [
    {
     "name": "stdout",
     "output_type": "stream",
     "text": [
      "\n",
      " Matrix (M)  ==>  \n",
      " [[ 1  2  3]\n",
      " [ 4 -3  6]\n",
      " [ 7  8  0]]\n",
      "\n",
      "Matrices Scalar Multiplication ==>  \n",
      " [[ 10  20  30]\n",
      " [ 40 -30  60]\n",
      " [ 70  80   0]]\n",
      "\n",
      "Matrices Scalar Multiplication ==>  \n",
      " [[ 10  20  30]\n",
      " [ 40 -30  60]\n",
      " [ 70  80   0]]\n"
     ]
    }
   ],
   "source": [
    "M = np.array([[1,2,3],[4,-3,6],[7,8,0]])\n",
    "\n",
    "C = 10\n",
    "\n",
    "print(\"\\n Matrix (M)  ==>  \\n\", M)\n",
    "\n",
    "print(\"\\nMatrices Scalar Multiplication ==>  \\n\", C*M)\n",
    "\n",
    "# OR\n",
    "\n",
    "print(\"\\nMatrices Scalar Multiplication ==>  \\n\", np.multiply(C,M))"
   ]
  },
  {
   "cell_type": "markdown",
   "metadata": {},
   "source": [
    "# Transpose of a matrix"
   ]
  },
  {
   "cell_type": "markdown",
   "metadata": {},
   "source": [
    "Transpose of a matrix : https://www.youtube.com/watch?v=g_Rz94DXvNo&list=PLmdFyQYShrjcoVkhCCIwxNj9N4rW1-T5I&index=13"
   ]
  },
  {
   "cell_type": "code",
   "execution_count": 66,
   "metadata": {},
   "outputs": [
    {
     "name": "stdout",
     "output_type": "stream",
     "text": [
      "\n",
      " Matrix (M)  ==>  \n",
      " [[ 1  2  3]\n",
      " [ 4 -3  6]\n",
      " [ 7  8  0]]\n",
      "\n",
      "Transpose of M ==>  \n",
      " [[ 1  4  7]\n",
      " [ 2 -3  8]\n",
      " [ 3  6  0]]\n",
      "\n",
      "Transpose of M ==>  \n",
      " [[ 1  4  7]\n",
      " [ 2 -3  8]\n",
      " [ 3  6  0]]\n"
     ]
    }
   ],
   "source": [
    "M = np.array([[1,2,3],[4,-3,6],[7,8,0]])\n",
    "\n",
    "print(\"\\n Matrix (M)  ==>  \\n\", M)\n",
    "\n",
    "print(\"\\nTranspose of M ==>  \\n\", np.transpose(M))\n",
    "\n",
    "# OR\n",
    "\n",
    "print(\"\\nTranspose of M ==>  \\n\", M.T)"
   ]
  },
  {
   "cell_type": "markdown",
   "metadata": {},
   "source": [
    "# Determinant of a matrix"
   ]
  },
  {
   "cell_type": "markdown",
   "metadata": {},
   "source": [
    "Determinant of a matrix : \n",
    "- https://www.youtube.com/watch?v=21LWuY8i6Hw&t=88s\n",
    "- https://www.youtube.com/watch?v=Ip3X9LOh2dk&list=PLZHQObOWTQDPD3MizzM2xVFitgF8hE_ab&index=6"
   ]
  },
  {
   "cell_type": "code",
   "execution_count": 67,
   "metadata": {},
   "outputs": [
    {
     "name": "stdout",
     "output_type": "stream",
     "text": [
      "\n",
      " Matrix (M)  ==>  \n",
      " [[ 1  2  3]\n",
      " [ 4 -3  6]\n",
      " [ 7  8  0]]\n",
      "\n",
      "Determinant of M ==>   195.0\n"
     ]
    }
   ],
   "source": [
    "M = np.array([[1,2,3],[4,-3,6],[7,8,0]])\n",
    "\n",
    "print(\"\\n Matrix (M)  ==>  \\n\", M)\n",
    "\n",
    "print(\"\\nDeterminant of M ==>  \", np.linalg.det(M))"
   ]
  },
  {
   "cell_type": "markdown",
   "metadata": {},
   "source": [
    "# Rank of a matrix"
   ]
  },
  {
   "cell_type": "code",
   "execution_count": 68,
   "metadata": {},
   "outputs": [
    {
     "name": "stdout",
     "output_type": "stream",
     "text": [
      "\n",
      " Matrix (M)  ==>  \n",
      " [[ 1  2  3]\n",
      " [ 4 -3  6]\n",
      " [ 7  8  0]]\n",
      "\n",
      "Rank of M ==>  3\n"
     ]
    }
   ],
   "source": [
    "M = np.array([[1,2,3],[4,-3,6],[7,8,0]])\n",
    "\n",
    "print(\"\\n Matrix (M)  ==>  \\n\", M)\n",
    "\n",
    "print(\"\\nRank of M ==> \", np.linalg.matrix_rank(M))"
   ]
  },
  {
   "cell_type": "markdown",
   "metadata": {},
   "source": [
    "# Trace of matrix"
   ]
  },
  {
   "cell_type": "code",
   "execution_count": 69,
   "metadata": {},
   "outputs": [
    {
     "name": "stdout",
     "output_type": "stream",
     "text": [
      "\n",
      " Matrix (M)  ==>  \n",
      " [[ 1  2  3]\n",
      " [ 4 -3  6]\n",
      " [ 7  8  0]]\n",
      "\n",
      "Trace of M ==>  -2\n"
     ]
    }
   ],
   "source": [
    "M = np.array([[1,2,3],[4,-3,6],[7,8,0]])\n",
    "\n",
    "print(\"\\n Matrix (M)  ==>  \\n\", M)\n",
    "\n",
    "print(\"\\nTrace of M ==> \", np.trace(M))"
   ]
  },
  {
   "cell_type": "markdown",
   "metadata": {},
   "source": [
    "# Inverse of matrix A"
   ]
  },
  {
   "cell_type": "markdown",
   "metadata": {},
   "source": [
    "Inverse of matrix : https://www.youtube.com/watch?v=pKZyszzmyeQ"
   ]
  },
  {
   "cell_type": "code",
   "execution_count": 70,
   "metadata": {},
   "outputs": [
    {
     "name": "stdout",
     "output_type": "stream",
     "text": [
      "\n",
      " Matrix (M)  ==>  \n",
      " [[ 1  2  3]\n",
      " [ 4 -3  6]\n",
      " [ 7  8  0]]\n",
      "\n",
      "Inverse of M ==> \n",
      " [[-0.24615385  0.12307692  0.10769231]\n",
      " [ 0.21538462 -0.10769231  0.03076923]\n",
      " [ 0.27179487  0.03076923 -0.05641026]]\n"
     ]
    }
   ],
   "source": [
    "M = np.array([[1,2,3],[4,-3,6],[7,8,0]])\n",
    "\n",
    "print(\"\\n Matrix (M)  ==>  \\n\", M)\n",
    "\n",
    "print(\"\\nInverse of M ==> \\n\", np.linalg.inv(M))"
   ]
  },
  {
   "cell_type": "markdown",
   "metadata": {},
   "source": [
    "# Matrix Multiplication (pointwise multiplication)"
   ]
  },
  {
   "cell_type": "code",
   "execution_count": 71,
   "metadata": {},
   "outputs": [
    {
     "name": "stdout",
     "output_type": "stream",
     "text": [
      "\n",
      " First Matrix (M)  ==>  \n",
      " [[ 1  2  3]\n",
      " [ 4 -3  6]\n",
      " [ 7  8  0]]\n",
      "\n",
      " Second Matrix (N)  ==>  \n",
      " [[1 1 1]\n",
      " [2 2 2]\n",
      " [3 3 3]]\n",
      "\n",
      " Point-Wise Multiplication of M & N  ==> \n",
      " [[ 1  2  3]\n",
      " [ 8 -6 12]\n",
      " [21 24  0]]\n",
      "\n",
      " Point-Wise Multiplication of M & N  ==> \n",
      " [[ 1  2  3]\n",
      " [ 8 -6 12]\n",
      " [21 24  0]]\n"
     ]
    }
   ],
   "source": [
    "M = np.array([[1,2,3],[4,-3,6],[7,8,0]])\n",
    "N = np.array([[1,1,1],[2,2,2],[3,3,3]])\n",
    "\n",
    "print(\"\\n First Matrix (M)  ==>  \\n\", M)\n",
    "print(\"\\n Second Matrix (N)  ==>  \\n\", N)\n",
    "\n",
    "print(\"\\n Point-Wise Multiplication of M & N  ==> \\n\", M*N)\n",
    "\n",
    "# OR\n",
    "\n",
    "print(\"\\n Point-Wise Multiplication of M & N  ==> \\n\", np.multiply(M,N))"
   ]
  },
  {
   "cell_type": "markdown",
   "metadata": {},
   "source": [
    "# Matrix dot product"
   ]
  },
  {
   "cell_type": "markdown",
   "metadata": {},
   "source": [
    "Matrix Multiplication : \n",
    "- https://www.youtube.com/watch?v=vzt9c7iWPxs&t=207s\n",
    "- https://www.youtube.com/watch?v=XkY2DOUCWMU&list=PLZHQObOWTQDPD3MizzM2xVFitgF8hE_ab&index=4"
   ]
  },
  {
   "cell_type": "code",
   "execution_count": 72,
   "metadata": {},
   "outputs": [
    {
     "name": "stdout",
     "output_type": "stream",
     "text": [
      "\n",
      " First Matrix (M)  ==>  \n",
      " [[ 1  2  3]\n",
      " [ 4 -3  6]\n",
      " [ 7  8  0]]\n",
      "\n",
      " Second Matrix (N)  ==>  \n",
      " [[1 1 1]\n",
      " [2 2 2]\n",
      " [3 3 3]]\n",
      "\n",
      " Matrix Dot Product ==> \n",
      " [[14 14 14]\n",
      " [16 16 16]\n",
      " [23 23 23]]\n",
      "\n",
      " Matrix Dot Product using np.matmul ==> \n",
      " [[14 14 14]\n",
      " [16 16 16]\n",
      " [23 23 23]]\n",
      "\n",
      " Matrix Dot Product using np.dot ==> \n",
      " [[14 14 14]\n",
      " [16 16 16]\n",
      " [23 23 23]]\n"
     ]
    }
   ],
   "source": [
    "M = np.array([[1,2,3],[4,-3,6],[7,8,0]])\n",
    "N = np.array([[1,1,1],[2,2,2],[3,3,3]])\n",
    "\n",
    "print(\"\\n First Matrix (M)  ==>  \\n\", M)\n",
    "print(\"\\n Second Matrix (N)  ==>  \\n\", N)\n",
    "\n",
    "print(\"\\n Matrix Dot Product ==> \\n\", M@N)\n",
    "\n",
    "# OR\n",
    "\n",
    "print(\"\\n Matrix Dot Product using np.matmul ==> \\n\", np.matmul(M,N))\n",
    "\n",
    "# OR\n",
    "\n",
    "print(\"\\n Matrix Dot Product using np.dot ==> \\n\", np.dot(M,N))"
   ]
  },
  {
   "cell_type": "markdown",
   "metadata": {},
   "source": [
    "# Matrix Division"
   ]
  },
  {
   "cell_type": "code",
   "execution_count": 73,
   "metadata": {},
   "outputs": [
    {
     "name": "stdout",
     "output_type": "stream",
     "text": [
      "\n",
      " First Matrix (M)  ==>  \n",
      " [[ 1  2  3]\n",
      " [ 4 -3  6]\n",
      " [ 7  8  0]]\n",
      "\n",
      " Second Matrix (N)  ==>  \n",
      " [[1 1 1]\n",
      " [2 2 2]\n",
      " [3 3 3]]\n",
      "\n",
      " Matrix Division (M/N)   ==> \n",
      " [[ 1.          2.          3.        ]\n",
      " [ 2.         -1.5         3.        ]\n",
      " [ 2.33333333  2.66666667  0.        ]]\n",
      "\n",
      " Matrix Division (M/N)   ==> \n",
      " [[ 1.          2.          3.        ]\n",
      " [ 2.         -1.5         3.        ]\n",
      " [ 2.33333333  2.66666667  0.        ]]\n"
     ]
    }
   ],
   "source": [
    "M = np.array([[1,2,3],[4,-3,6],[7,8,0]])\n",
    "N = np.array([[1,1,1],[2,2,2],[3,3,3]])\n",
    "\n",
    "print(\"\\n First Matrix (M)  ==>  \\n\", M)\n",
    "print(\"\\n Second Matrix (N)  ==>  \\n\", N)\n",
    "\n",
    "\n",
    "print(\"\\n Matrix Division (M/N)   ==> \\n\", M/N)\n",
    "\n",
    "# OR\n",
    "\n",
    "print(\"\\n Matrix Division (M/N)   ==> \\n\", np.divide(M,N))"
   ]
  },
  {
   "cell_type": "markdown",
   "metadata": {},
   "source": [
    "# Sum of all elements in a matrix"
   ]
  },
  {
   "cell_type": "code",
   "execution_count": 74,
   "metadata": {},
   "outputs": [
    {
     "name": "stdout",
     "output_type": "stream",
     "text": [
      "\n",
      " Matrix (N)  ==>  \n",
      " [[1 1 1]\n",
      " [2 2 2]\n",
      " [3 3 3]]\n",
      "Sum of all elements in a Matrix  ==>\n",
      "18\n"
     ]
    }
   ],
   "source": [
    "N = np.array([[1,1,1],[2,2,2],[3,3,3]])\n",
    "\n",
    "print(\"\\n Matrix (N)  ==>  \\n\", N)\n",
    "\n",
    "\n",
    "print (\"Sum of all elements in a Matrix  ==>\")\n",
    "print (np.sum(N))"
   ]
  },
  {
   "cell_type": "markdown",
   "metadata": {},
   "source": [
    "# Column-Wise Addition"
   ]
  },
  {
   "cell_type": "code",
   "execution_count": 75,
   "metadata": {},
   "outputs": [
    {
     "name": "stdout",
     "output_type": "stream",
     "text": [
      "\n",
      " Matrix (N)  ==>  \n",
      " [[1 1 1]\n",
      " [2 2 2]\n",
      " [3 3 3]]\n",
      "Column-Wise summation ==> \n",
      "[6 6 6]\n"
     ]
    }
   ],
   "source": [
    "N = np.array([[1,1,1],[2,2,2],[3,3,3]])\n",
    "\n",
    "print(\"\\n Matrix (N)  ==>  \\n\", N)\n",
    "\n",
    "print (\"Column-Wise summation ==> \")\n",
    "print (np.sum(N,axis=0))"
   ]
  },
  {
   "cell_type": "markdown",
   "metadata": {},
   "source": [
    "# Row-Wise Addition"
   ]
  },
  {
   "cell_type": "code",
   "execution_count": 76,
   "metadata": {},
   "outputs": [
    {
     "name": "stdout",
     "output_type": "stream",
     "text": [
      "\n",
      " Matrix (N)  ==>  \n",
      " [[1 1 1]\n",
      " [2 2 2]\n",
      " [3 3 3]]\n",
      "Row-Wise summation  ==>\n",
      "[3 6 9]\n"
     ]
    }
   ],
   "source": [
    "N = np.array([[1,1,1],[2,2,2],[3,3,3]])\n",
    "\n",
    "print(\"\\n Matrix (N)  ==>  \\n\", N)\n",
    "\n",
    "print (\"Row-Wise summation  ==>\")\n",
    "print (np.sum(N,axis=1))"
   ]
  },
  {
   "cell_type": "markdown",
   "metadata": {},
   "source": [
    "# Kronecker Product of matrices"
   ]
  },
  {
   "cell_type": "markdown",
   "metadata": {},
   "source": [
    "Kronecker Product of matrices : https://www.youtube.com/watch?v=e1UJXvu8VZk"
   ]
  },
  {
   "cell_type": "code",
   "execution_count": 77,
   "metadata": {},
   "outputs": [
    {
     "data": {
      "text/plain": [
       "array([[1, 2, 3],\n",
       "       [4, 5, 6]])"
      ]
     },
     "execution_count": 77,
     "metadata": {},
     "output_type": "execute_result"
    }
   ],
   "source": [
    "M1 = np.array([[1,2,3] , [4,5,6]]) \n",
    "M1"
   ]
  },
  {
   "cell_type": "code",
   "execution_count": 78,
   "metadata": {},
   "outputs": [
    {
     "data": {
      "text/plain": [
       "array([[10, 10, 10],\n",
       "       [10, 10, 10]])"
      ]
     },
     "execution_count": 78,
     "metadata": {},
     "output_type": "execute_result"
    }
   ],
   "source": [
    "M2 = np.array([[10,10,10],[10,10,10]])\n",
    "M2"
   ]
  },
  {
   "cell_type": "code",
   "execution_count": 79,
   "metadata": {},
   "outputs": [
    {
     "data": {
      "text/plain": [
       "array([[10, 10, 10, 20, 20, 20, 30, 30, 30],\n",
       "       [10, 10, 10, 20, 20, 20, 30, 30, 30],\n",
       "       [40, 40, 40, 50, 50, 50, 60, 60, 60],\n",
       "       [40, 40, 40, 50, 50, 50, 60, 60, 60]])"
      ]
     },
     "execution_count": 79,
     "metadata": {},
     "output_type": "execute_result"
    }
   ],
   "source": [
    "np.kron(M1,M2)"
   ]
  },
  {
   "cell_type": "markdown",
   "metadata": {},
   "source": [
    "# Matrix Vector Multiplication"
   ]
  },
  {
   "cell_type": "code",
   "execution_count": 80,
   "metadata": {},
   "outputs": [
    {
     "name": "stdout",
     "output_type": "stream",
     "text": [
      "Matrix Vector Multiplication  ==> \n",
      " [[ 10  40  90]\n",
      " [ 40 100 180]]\n"
     ]
    }
   ],
   "source": [
    "A = np.array([[1,2,3] ,[4,5,6]])\n",
    "v = np.array([10,20,30])\n",
    "print (\"Matrix Vector Multiplication  ==> \\n\" , A*v)"
   ]
  },
  {
   "cell_type": "markdown",
   "metadata": {},
   "source": [
    "# Matrix Vector Dot Product"
   ]
  },
  {
   "cell_type": "code",
   "execution_count": 81,
   "metadata": {},
   "outputs": [
    {
     "name": "stdout",
     "output_type": "stream",
     "text": [
      "Matrix Vector Multiplication  ==> \n",
      " [140 320]\n"
     ]
    }
   ],
   "source": [
    "A = np.array([[1,2,3] ,[4,5,6]])\n",
    "v = np.array([10,20,30])\n",
    "\n",
    "print (\"Matrix Vector Multiplication  ==> \\n\" , A@v)"
   ]
  },
  {
   "cell_type": "markdown",
   "metadata": {},
   "source": [
    "# Matrix Powers"
   ]
  },
  {
   "cell_type": "code",
   "execution_count": 82,
   "metadata": {},
   "outputs": [
    {
     "data": {
      "text/plain": [
       "array([[1, 2],\n",
       "       [4, 5]])"
      ]
     },
     "execution_count": 82,
     "metadata": {},
     "output_type": "execute_result"
    }
   ],
   "source": [
    "M1 = np.array([[1,2],[4,5]])\n",
    "M1"
   ]
  },
  {
   "cell_type": "code",
   "execution_count": 83,
   "metadata": {},
   "outputs": [
    {
     "data": {
      "text/plain": [
       "array([[ 57,  78],\n",
       "       [156, 213]])"
      ]
     },
     "execution_count": 83,
     "metadata": {},
     "output_type": "execute_result"
    }
   ],
   "source": [
    "#Matrix to the power 3\n",
    "\n",
    "M1@M1@M1"
   ]
  },
  {
   "cell_type": "code",
   "execution_count": 84,
   "metadata": {},
   "outputs": [
    {
     "data": {
      "text/plain": [
       "array([[ 57,  78],\n",
       "       [156, 213]])"
      ]
     },
     "execution_count": 84,
     "metadata": {},
     "output_type": "execute_result"
    }
   ],
   "source": [
    "#Matrix to the power 3\n",
    "\n",
    "np.linalg.matrix_power(M1,3)"
   ]
  },
  {
   "cell_type": "markdown",
   "metadata": {},
   "source": [
    "# Tensor"
   ]
  },
  {
   "cell_type": "markdown",
   "metadata": {},
   "source": [
    "What is Tensor :\n",
    "   - https://www.youtube.com/watch?v=f5liqUk0ZTw\n",
    "   - https://www.youtube.com/watch?v=bpG3gqDM80w&t=634s\n",
    "   - https://www.youtube.com/watch?v=uaQeXi4E7gA"
   ]
  },
  {
   "cell_type": "code",
   "execution_count": 85,
   "metadata": {},
   "outputs": [
    {
     "data": {
      "text/plain": [
       "array([[[  1,   2,   3],\n",
       "        [  4,   5,   6],\n",
       "        [  7,   8,   9]],\n",
       "\n",
       "       [[ 10,  20,  30],\n",
       "        [ 40,  50,  60],\n",
       "        [ 70,  80,  90]],\n",
       "\n",
       "       [[100, 200, 300],\n",
       "        [400, 500, 600],\n",
       "        [700, 800, 900]]])"
      ]
     },
     "execution_count": 85,
     "metadata": {},
     "output_type": "execute_result"
    }
   ],
   "source": [
    "# Create Tensor\n",
    "\n",
    "T1 = np.array([\n",
    "  [[1,2,3],    [4,5,6],    [7,8,9]],\n",
    "  [[10,20,30], [40,50,60], [70,80,90]],\n",
    "  [[100,200,300], [400,500,600], [700,800,900]],\n",
    "  ])\n",
    "\n",
    "T1"
   ]
  },
  {
   "cell_type": "code",
   "execution_count": 86,
   "metadata": {},
   "outputs": [
    {
     "data": {
      "text/plain": [
       "array([[[3, 3, 3],\n",
       "        [4, 4, 4],\n",
       "        [5, 5, 5]],\n",
       "\n",
       "       [[1, 1, 1],\n",
       "        [1, 1, 1],\n",
       "        [1, 1, 1]],\n",
       "\n",
       "       [[2, 2, 2],\n",
       "        [2, 2, 2],\n",
       "        [2, 2, 2]]])"
      ]
     },
     "execution_count": 86,
     "metadata": {},
     "output_type": "execute_result"
    }
   ],
   "source": [
    "T2 = np.array([\n",
    "  [[3,3,3] , [4,4,4] , [5,5,5]],\n",
    "  [[1,1,1] , [1,1,1] , [1,1,1]],\n",
    "  [[2,2,2] , [2,2,2] , [2,2,2]]\n",
    "    \n",
    "])\n",
    "\n",
    "T2"
   ]
  },
  {
   "cell_type": "markdown",
   "metadata": {},
   "source": [
    "# Tensor Addition"
   ]
  },
  {
   "cell_type": "code",
   "execution_count": 87,
   "metadata": {},
   "outputs": [
    {
     "data": {
      "text/plain": [
       "array([[[  4,   5,   6],\n",
       "        [  8,   9,  10],\n",
       "        [ 12,  13,  14]],\n",
       "\n",
       "       [[ 11,  21,  31],\n",
       "        [ 41,  51,  61],\n",
       "        [ 71,  81,  91]],\n",
       "\n",
       "       [[102, 202, 302],\n",
       "        [402, 502, 602],\n",
       "        [702, 802, 902]]])"
      ]
     },
     "execution_count": 87,
     "metadata": {},
     "output_type": "execute_result"
    }
   ],
   "source": [
    "A = T1+T2\n",
    "A"
   ]
  },
  {
   "cell_type": "code",
   "execution_count": 88,
   "metadata": {},
   "outputs": [
    {
     "data": {
      "text/plain": [
       "array([[[  4,   5,   6],\n",
       "        [  8,   9,  10],\n",
       "        [ 12,  13,  14]],\n",
       "\n",
       "       [[ 11,  21,  31],\n",
       "        [ 41,  51,  61],\n",
       "        [ 71,  81,  91]],\n",
       "\n",
       "       [[102, 202, 302],\n",
       "        [402, 502, 602],\n",
       "        [702, 802, 902]]])"
      ]
     },
     "execution_count": 88,
     "metadata": {},
     "output_type": "execute_result"
    }
   ],
   "source": [
    "np.add(T1,T2)"
   ]
  },
  {
   "cell_type": "markdown",
   "metadata": {},
   "source": [
    "# Tensor Subtraction"
   ]
  },
  {
   "cell_type": "code",
   "execution_count": 89,
   "metadata": {},
   "outputs": [
    {
     "data": {
      "text/plain": [
       "array([[[ -2,  -1,   0],\n",
       "        [  0,   1,   2],\n",
       "        [  2,   3,   4]],\n",
       "\n",
       "       [[  9,  19,  29],\n",
       "        [ 39,  49,  59],\n",
       "        [ 69,  79,  89]],\n",
       "\n",
       "       [[ 98, 198, 298],\n",
       "        [398, 498, 598],\n",
       "        [698, 798, 898]]])"
      ]
     },
     "execution_count": 89,
     "metadata": {},
     "output_type": "execute_result"
    }
   ],
   "source": [
    "S = T1-T2\n",
    "S"
   ]
  },
  {
   "cell_type": "code",
   "execution_count": 90,
   "metadata": {},
   "outputs": [
    {
     "data": {
      "text/plain": [
       "array([[[ -2,  -1,   0],\n",
       "        [  0,   1,   2],\n",
       "        [  2,   3,   4]],\n",
       "\n",
       "       [[  9,  19,  29],\n",
       "        [ 39,  49,  59],\n",
       "        [ 69,  79,  89]],\n",
       "\n",
       "       [[ 98, 198, 298],\n",
       "        [398, 498, 598],\n",
       "        [698, 798, 898]]])"
      ]
     },
     "execution_count": 90,
     "metadata": {},
     "output_type": "execute_result"
    }
   ],
   "source": [
    "np.subtract(T1,T2)"
   ]
  },
  {
   "cell_type": "markdown",
   "metadata": {},
   "source": [
    "# Tensor Element-Wise Product"
   ]
  },
  {
   "cell_type": "code",
   "execution_count": 91,
   "metadata": {},
   "outputs": [
    {
     "data": {
      "text/plain": [
       "array([[[   3,    6,    9],\n",
       "        [  16,   20,   24],\n",
       "        [  35,   40,   45]],\n",
       "\n",
       "       [[  10,   20,   30],\n",
       "        [  40,   50,   60],\n",
       "        [  70,   80,   90]],\n",
       "\n",
       "       [[ 200,  400,  600],\n",
       "        [ 800, 1000, 1200],\n",
       "        [1400, 1600, 1800]]])"
      ]
     },
     "execution_count": 91,
     "metadata": {},
     "output_type": "execute_result"
    }
   ],
   "source": [
    "P = T1*T2\n",
    "P"
   ]
  },
  {
   "cell_type": "code",
   "execution_count": 92,
   "metadata": {},
   "outputs": [
    {
     "data": {
      "text/plain": [
       "array([[[   3,    6,    9],\n",
       "        [  16,   20,   24],\n",
       "        [  35,   40,   45]],\n",
       "\n",
       "       [[  10,   20,   30],\n",
       "        [  40,   50,   60],\n",
       "        [  70,   80,   90]],\n",
       "\n",
       "       [[ 200,  400,  600],\n",
       "        [ 800, 1000, 1200],\n",
       "        [1400, 1600, 1800]]])"
      ]
     },
     "execution_count": 92,
     "metadata": {},
     "output_type": "execute_result"
    }
   ],
   "source": [
    "np.multiply(T1,T2)"
   ]
  },
  {
   "cell_type": "markdown",
   "metadata": {},
   "source": [
    "# Tensor Element-Wise Division"
   ]
  },
  {
   "cell_type": "code",
   "execution_count": 93,
   "metadata": {},
   "outputs": [
    {
     "data": {
      "text/plain": [
       "array([[[3.33333333e-01, 6.66666667e-01, 1.00000000e+00],\n",
       "        [1.00000000e+00, 1.25000000e+00, 1.50000000e+00],\n",
       "        [1.40000000e+00, 1.60000000e+00, 1.80000000e+00]],\n",
       "\n",
       "       [[1.00000000e+01, 2.00000000e+01, 3.00000000e+01],\n",
       "        [4.00000000e+01, 5.00000000e+01, 6.00000000e+01],\n",
       "        [7.00000000e+01, 8.00000000e+01, 9.00000000e+01]],\n",
       "\n",
       "       [[5.00000000e+01, 1.00000000e+02, 1.50000000e+02],\n",
       "        [2.00000000e+02, 2.50000000e+02, 3.00000000e+02],\n",
       "        [3.50000000e+02, 4.00000000e+02, 4.50000000e+02]]])"
      ]
     },
     "execution_count": 93,
     "metadata": {},
     "output_type": "execute_result"
    }
   ],
   "source": [
    "D = T1/T2\n",
    "D"
   ]
  },
  {
   "cell_type": "code",
   "execution_count": 94,
   "metadata": {},
   "outputs": [
    {
     "data": {
      "text/plain": [
       "array([[[3.33333333e-01, 6.66666667e-01, 1.00000000e+00],\n",
       "        [1.00000000e+00, 1.25000000e+00, 1.50000000e+00],\n",
       "        [1.40000000e+00, 1.60000000e+00, 1.80000000e+00]],\n",
       "\n",
       "       [[1.00000000e+01, 2.00000000e+01, 3.00000000e+01],\n",
       "        [4.00000000e+01, 5.00000000e+01, 6.00000000e+01],\n",
       "        [7.00000000e+01, 8.00000000e+01, 9.00000000e+01]],\n",
       "\n",
       "       [[5.00000000e+01, 1.00000000e+02, 1.50000000e+02],\n",
       "        [2.00000000e+02, 2.50000000e+02, 3.00000000e+02],\n",
       "        [3.50000000e+02, 4.00000000e+02, 4.50000000e+02]]])"
      ]
     },
     "execution_count": 94,
     "metadata": {},
     "output_type": "execute_result"
    }
   ],
   "source": [
    "np.divide(T1,T2)"
   ]
  },
  {
   "cell_type": "markdown",
   "metadata": {},
   "source": [
    "# Tensor Dot Product"
   ]
  },
  {
   "cell_type": "code",
   "execution_count": 95,
   "metadata": {},
   "outputs": [
    {
     "data": {
      "text/plain": [
       "array([[[  1,   2,   3],\n",
       "        [  4,   5,   6],\n",
       "        [  7,   8,   9]],\n",
       "\n",
       "       [[ 10,  20,  30],\n",
       "        [ 40,  50,  60],\n",
       "        [ 70,  80,  90]],\n",
       "\n",
       "       [[100, 200, 300],\n",
       "        [400, 500, 600],\n",
       "        [700, 800, 900]]])"
      ]
     },
     "execution_count": 95,
     "metadata": {},
     "output_type": "execute_result"
    }
   ],
   "source": [
    "T1"
   ]
  },
  {
   "cell_type": "code",
   "execution_count": 96,
   "metadata": {},
   "outputs": [
    {
     "data": {
      "text/plain": [
       "array([[[3, 3, 3],\n",
       "        [4, 4, 4],\n",
       "        [5, 5, 5]],\n",
       "\n",
       "       [[1, 1, 1],\n",
       "        [1, 1, 1],\n",
       "        [1, 1, 1]],\n",
       "\n",
       "       [[2, 2, 2],\n",
       "        [2, 2, 2],\n",
       "        [2, 2, 2]]])"
      ]
     },
     "execution_count": 96,
     "metadata": {},
     "output_type": "execute_result"
    }
   ],
   "source": [
    "T2"
   ]
  },
  {
   "cell_type": "code",
   "execution_count": 97,
   "metadata": {},
   "outputs": [
    {
     "data": {
      "text/plain": [
       "array([[  89,   89,   89],\n",
       "       [ 890,  890,  890],\n",
       "       [8900, 8900, 8900]])"
      ]
     },
     "execution_count": 97,
     "metadata": {},
     "output_type": "execute_result"
    }
   ],
   "source": [
    "np.tensordot(T1,T2)"
   ]
  },
  {
   "cell_type": "markdown",
   "metadata": {},
   "source": [
    "# Solving Equations $$AX = B$$"
   ]
  },
  {
   "cell_type": "markdown",
   "metadata": {},
   "source": [
    "Solving Equations : \n",
    "   - https://www.youtube.com/watch?v=NNmiOoWt86M\n",
    "   - https://www.youtube.com/watch?v=a2z7sZ4MSqo"
   ]
  },
  {
   "cell_type": "code",
   "execution_count": 98,
   "metadata": {},
   "outputs": [
    {
     "data": {
      "text/plain": [
       "array([[1, 2, 3],\n",
       "       [4, 5, 6],\n",
       "       [7, 8, 9]])"
      ]
     },
     "execution_count": 98,
     "metadata": {},
     "output_type": "execute_result"
    }
   ],
   "source": [
    "A = np.array([[1,2,3] , [4,5,6] , [7,8,9]])\n",
    "A"
   ]
  },
  {
   "cell_type": "code",
   "execution_count": 99,
   "metadata": {},
   "outputs": [
    {
     "data": {
      "text/plain": [
       "array([[0.17629069],\n",
       "       [0.28765383],\n",
       "       [0.68182386]])"
      ]
     },
     "execution_count": 99,
     "metadata": {},
     "output_type": "execute_result"
    }
   ],
   "source": [
    "B = np.random.random((3,1))\n",
    "B"
   ]
  },
  {
   "cell_type": "code",
   "execution_count": 100,
   "metadata": {},
   "outputs": [
    {
     "data": {
      "text/plain": [
       "array([[-1.27364894e+15],\n",
       "       [ 2.54729789e+15],\n",
       "       [-1.27364894e+15]])"
      ]
     },
     "execution_count": 100,
     "metadata": {},
     "output_type": "execute_result"
    }
   ],
   "source": [
    "# Ist Method\n",
    "X = np.dot(np.linalg.inv(A) , B)\n",
    "X"
   ]
  },
  {
   "cell_type": "code",
   "execution_count": 101,
   "metadata": {},
   "outputs": [
    {
     "data": {
      "text/plain": [
       "array([[-1.27364894e+15],\n",
       "       [ 2.54729789e+15],\n",
       "       [-1.27364894e+15]])"
      ]
     },
     "execution_count": 101,
     "metadata": {},
     "output_type": "execute_result"
    }
   ],
   "source": [
    "# 2nd Method\n",
    "X = np.matmul(np.linalg.inv(A) , B)\n",
    "X"
   ]
  },
  {
   "cell_type": "code",
   "execution_count": 102,
   "metadata": {},
   "outputs": [
    {
     "data": {
      "text/plain": [
       "array([[-1.27364894e+15],\n",
       "       [ 2.54729789e+15],\n",
       "       [-1.27364894e+15]])"
      ]
     },
     "execution_count": 102,
     "metadata": {},
     "output_type": "execute_result"
    }
   ],
   "source": [
    "# 3rd Method\n",
    "X = np.linalg.inv(A)@B\n",
    "X"
   ]
  },
  {
   "cell_type": "code",
   "execution_count": 103,
   "metadata": {},
   "outputs": [
    {
     "data": {
      "text/plain": [
       "array([[-1.27364894e+15],\n",
       "       [ 2.54729789e+15],\n",
       "       [-1.27364894e+15]])"
      ]
     },
     "execution_count": 103,
     "metadata": {},
     "output_type": "execute_result"
    }
   ],
   "source": [
    "# 4th Method\n",
    "X = np.linalg.solve(A,B)\n",
    "X"
   ]
  },
  {
   "cell_type": "markdown",
   "metadata": {},
   "source": [
    "# Eigenvalues & Eigenvectors of a Matrix"
   ]
  },
  {
   "cell_type": "markdown",
   "metadata": {},
   "source": [
    "Eigenvalues & Eigenvectors of a Matrix\n",
    "\n",
    "https://www.youtube.com/watch?v=PFDu9oVAE-g&t=36s\n",
    "\n",
    "https://www.youtube.com/watch?v=cdZnhQjJu4I&t=557s"
   ]
  },
  {
   "cell_type": "code",
   "execution_count": 104,
   "metadata": {},
   "outputs": [
    {
     "name": "stdout",
     "output_type": "stream",
     "text": [
      "Matrix  ==> \n",
      " [[4 2]\n",
      " [7 3]] \n",
      "\n",
      "Eigen Value :- \n",
      " [ 7.27491722 -0.27491722] \n",
      "\n",
      "Eigen Value :- \n",
      " [[ 0.52119606 -0.42376194]\n",
      " [ 0.85343697  0.9057736 ]] \n",
      "\n"
     ]
    }
   ],
   "source": [
    "M = np.array([[4, 2], [7, 3]])\n",
    "\n",
    "eigval, eigvec = np.linalg.eig(M)\n",
    "\n",
    "print (\"Matrix  ==> \\n\" , M, \"\\n\")\n",
    "\n",
    "\n",
    "print(f\"Eigen Value :- \\n {eigval} \\n\")\n",
    "\n",
    "print(f\"Eigen Value :- \\n {eigvec} \\n\")"
   ]
  },
  {
   "cell_type": "markdown",
   "metadata": {},
   "source": [
    "# Singular Value Decomposition of a Matrix"
   ]
  },
  {
   "cell_type": "markdown",
   "metadata": {},
   "source": [
    "Singular Value Decomposition : -\n",
    "\n",
    "https://www.youtube.com/watch?v=mBcLRGuAFUk\n",
    "\n",
    "https://www.youtube.com/watch?v=rYz83XPxiZo"
   ]
  },
  {
   "cell_type": "code",
   "execution_count": 105,
   "metadata": {},
   "outputs": [
    {
     "name": "stdout",
     "output_type": "stream",
     "text": [
      "\n",
      "[[-0.07666398  0.02658081 -0.11755385  0.23046316  0.96254035]\n",
      " [-0.25636511 -0.90355717 -0.18911483 -0.28229977  0.04902842]\n",
      " [-0.63748277 -0.05978656 -0.00472725  0.73427798 -0.22551005]\n",
      " [-0.27443632 -0.04884689  0.93029359 -0.19342891  0.13941945]\n",
      " [-0.66835619  0.42061555 -0.29145868 -0.53908688  0.02863093]]\n",
      "\n",
      "\n",
      "[17.44211647  8.82466033  4.36957284  3.04865669  1.22901124]\n",
      "\n",
      "\n",
      "[[-0.66859102 -0.34826312 -0.62532401 -0.06293647 -0.19159263]\n",
      " [ 0.11728332 -0.91201686  0.31174355 -0.02214109  0.23831827]\n",
      " [-0.25683006 -0.03474343  0.31042259  0.85161056 -0.33350935]\n",
      " [ 0.35130153 -0.17369313  0.01756025 -0.25378904 -0.88413839]\n",
      " [ 0.59148645 -0.12474627 -0.64429442  0.45376135  0.11647955]]\n",
      "\n"
     ]
    }
   ],
   "source": [
    "M = np.array([[1, 2], [3, 4], [5, 6]])\n",
    "U, s, V = np.linalg.svd(L) \n",
    "print(f\"\\n{U}\\n\")\n",
    "print(f\"\\n{s}\\n\")\n",
    "print(f\"\\n{V}\\n\")"
   ]
  },
  {
   "cell_type": "markdown",
   "metadata": {},
   "source": [
    "# QR Decomposition"
   ]
  },
  {
   "cell_type": "markdown",
   "metadata": {},
   "source": [
    "QR Decomposition :\n",
    "\n",
    "https://www.youtube.com/watch?v=J41Ypt6Mftc"
   ]
  },
  {
   "cell_type": "code",
   "execution_count": 106,
   "metadata": {},
   "outputs": [
    {
     "name": "stdout",
     "output_type": "stream",
     "text": [
      "Q :- \n",
      "[[-0.16903085  0.89708523]\n",
      " [-0.50709255  0.27602622]\n",
      " [-0.84515425 -0.34503278]]\n",
      "\n",
      "R :- \n",
      "[[-5.91607978 -7.43735744]\n",
      " [ 0.          0.82807867]]\n",
      "\n"
     ]
    }
   ],
   "source": [
    "M = np.array([[1, 2], [3, 4], [5, 6]])\n",
    "\n",
    "Q, R = np.linalg.qr(M)\n",
    "\n",
    "print(f\"Q :- \\n{Q}\\n\")\n",
    "print(f\"R :- \\n{R}\\n\")"
   ]
  },
  {
   "cell_type": "markdown",
   "metadata": {},
   "source": [
    "# Moore-Penrose Pseudoinverse"
   ]
  },
  {
   "cell_type": "markdown",
   "metadata": {},
   "source": [
    "Moore-Penrose Pseudoinverse :\n",
    "\n",
    "https://www.youtube.com/watch?v=vXk-o3PVUdU"
   ]
  },
  {
   "cell_type": "code",
   "execution_count": 4,
   "metadata": {},
   "outputs": [
    {
     "name": "stdout",
     "output_type": "stream",
     "text": [
      "[[-0.94444444  0.44444444]\n",
      " [-0.11111111  0.11111111]\n",
      " [ 0.72222222 -0.22222222]]\n"
     ]
    }
   ],
   "source": [
    "M = np.array([[1, 2, 3], [4, 5, 6]])\n",
    "\n",
    "pinv_M = np.linalg.pinv(M)\n",
    "\n",
    "print(pinv_M)"
   ]
  },
  {
   "cell_type": "markdown",
   "metadata": {},
   "source": [
    "# End"
   ]
  }
 ],
 "metadata": {
  "kernelspec": {
   "display_name": "Python 3 (ipykernel)",
   "language": "python",
   "name": "python3"
  },
  "language_info": {
   "codemirror_mode": {
    "name": "ipython",
    "version": 3
   },
   "file_extension": ".py",
   "mimetype": "text/x-python",
   "name": "python",
   "nbconvert_exporter": "python",
   "pygments_lexer": "ipython3",
   "version": "3.9.12"
  }
 },
 "nbformat": 4,
 "nbformat_minor": 2
}
